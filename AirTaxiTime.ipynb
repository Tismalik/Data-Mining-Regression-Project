{
 "cells": [
  {
   "cell_type": "markdown",
   "metadata": {},
   "source": [
    "# Linear Regression Model for Predicting Aircraft Taxi Time"
   ]
  },
  {
   "cell_type": "code",
   "execution_count": 1,
   "metadata": {},
   "outputs": [],
   "source": [
    "# load data\n",
    "import pandas as pd\n",
    "import numpy as np\n",
    "df=pd.read_csv(\"aircraft.csv\")"
   ]
  },
  {
   "cell_type": "code",
   "execution_count": 2,
   "metadata": {},
   "outputs": [
    {
     "data": {
      "text/html": [
       "<div>\n",
       "<style scoped>\n",
       "    .dataframe tbody tr th:only-of-type {\n",
       "        vertical-align: middle;\n",
       "    }\n",
       "\n",
       "    .dataframe tbody tr th {\n",
       "        vertical-align: top;\n",
       "    }\n",
       "\n",
       "    .dataframe thead th {\n",
       "        text-align: right;\n",
       "    }\n",
       "</style>\n",
       "<table border=\"1\" class=\"dataframe\">\n",
       "  <thead>\n",
       "    <tr style=\"text-align: right;\">\n",
       "      <th></th>\n",
       "      <th>depArr</th>\n",
       "      <th>distance</th>\n",
       "      <th>distance_long</th>\n",
       "      <th>operation_mode</th>\n",
       "      <th>angle_sum</th>\n",
       "      <th>NDepDep</th>\n",
       "      <th>NDepArr</th>\n",
       "      <th>NArrDep</th>\n",
       "      <th>NArrArr</th>\n",
       "      <th>Pressure</th>\n",
       "      <th>VisibilityInMeters</th>\n",
       "      <th>isRain</th>\n",
       "      <th>isSnow</th>\n",
       "      <th>flightNumber</th>\n",
       "      <th>airline</th>\n",
       "      <th>aircraftModel</th>\n",
       "      <th>AvgSpdLast10</th>\n",
       "      <th>TaxiTime</th>\n",
       "    </tr>\n",
       "  </thead>\n",
       "  <tbody>\n",
       "    <tr>\n",
       "      <th>0</th>\n",
       "      <td>0</td>\n",
       "      <td>2815.376892</td>\n",
       "      <td>1417.437268</td>\n",
       "      <td>1</td>\n",
       "      <td>873.74</td>\n",
       "      <td>4</td>\n",
       "      <td>0</td>\n",
       "      <td>0</td>\n",
       "      <td>0</td>\n",
       "      <td>30.15</td>\n",
       "      <td>6000</td>\n",
       "      <td>0</td>\n",
       "      <td>0</td>\n",
       "      <td>TK1994</td>\n",
       "      <td>THY</td>\n",
       "      <td>A321</td>\n",
       "      <td>238.776244</td>\n",
       "      <td>17.200000</td>\n",
       "    </tr>\n",
       "    <tr>\n",
       "      <th>1</th>\n",
       "      <td>0</td>\n",
       "      <td>1612.045476</td>\n",
       "      <td>1169.957521</td>\n",
       "      <td>1</td>\n",
       "      <td>494.78</td>\n",
       "      <td>2</td>\n",
       "      <td>0</td>\n",
       "      <td>0</td>\n",
       "      <td>0</td>\n",
       "      <td>30.15</td>\n",
       "      <td>6000</td>\n",
       "      <td>0</td>\n",
       "      <td>0</td>\n",
       "      <td>SN2174</td>\n",
       "      <td>BEL</td>\n",
       "      <td>A319</td>\n",
       "      <td>268.150889</td>\n",
       "      <td>13.883333</td>\n",
       "    </tr>\n",
       "    <tr>\n",
       "      <th>2</th>\n",
       "      <td>1</td>\n",
       "      <td>1311.209416</td>\n",
       "      <td>0.000000</td>\n",
       "      <td>1</td>\n",
       "      <td>514.56</td>\n",
       "      <td>0</td>\n",
       "      <td>0</td>\n",
       "      <td>0</td>\n",
       "      <td>0</td>\n",
       "      <td>30.18</td>\n",
       "      <td>9000</td>\n",
       "      <td>1</td>\n",
       "      <td>0</td>\n",
       "      <td>PK721</td>\n",
       "      <td>PIA</td>\n",
       "      <td>B77L</td>\n",
       "      <td>330.556996</td>\n",
       "      <td>3.966667</td>\n",
       "    </tr>\n",
       "    <tr>\n",
       "      <th>3</th>\n",
       "      <td>1</td>\n",
       "      <td>2079.607054</td>\n",
       "      <td>0.000000</td>\n",
       "      <td>1</td>\n",
       "      <td>664.49</td>\n",
       "      <td>0</td>\n",
       "      <td>0</td>\n",
       "      <td>0</td>\n",
       "      <td>0</td>\n",
       "      <td>30.12</td>\n",
       "      <td>10000</td>\n",
       "      <td>0</td>\n",
       "      <td>0</td>\n",
       "      <td>A3638</td>\n",
       "      <td>AEE</td>\n",
       "      <td>A320</td>\n",
       "      <td>331.262804</td>\n",
       "      <td>9.266667</td>\n",
       "    </tr>\n",
       "    <tr>\n",
       "      <th>4</th>\n",
       "      <td>0</td>\n",
       "      <td>1129.205020</td>\n",
       "      <td>822.871797</td>\n",
       "      <td>1</td>\n",
       "      <td>551.01</td>\n",
       "      <td>1</td>\n",
       "      <td>0</td>\n",
       "      <td>0</td>\n",
       "      <td>0</td>\n",
       "      <td>30.15</td>\n",
       "      <td>6000</td>\n",
       "      <td>0</td>\n",
       "      <td>0</td>\n",
       "      <td>KL1082</td>\n",
       "      <td>KLM</td>\n",
       "      <td>B738</td>\n",
       "      <td>273.926372</td>\n",
       "      <td>11.950000</td>\n",
       "    </tr>\n",
       "    <tr>\n",
       "      <th>...</th>\n",
       "      <td>...</td>\n",
       "      <td>...</td>\n",
       "      <td>...</td>\n",
       "      <td>...</td>\n",
       "      <td>...</td>\n",
       "      <td>...</td>\n",
       "      <td>...</td>\n",
       "      <td>...</td>\n",
       "      <td>...</td>\n",
       "      <td>...</td>\n",
       "      <td>...</td>\n",
       "      <td>...</td>\n",
       "      <td>...</td>\n",
       "      <td>...</td>\n",
       "      <td>...</td>\n",
       "      <td>...</td>\n",
       "      <td>...</td>\n",
       "      <td>...</td>\n",
       "    </tr>\n",
       "    <tr>\n",
       "      <th>3013</th>\n",
       "      <td>0</td>\n",
       "      <td>1009.294221</td>\n",
       "      <td>756.386082</td>\n",
       "      <td>1</td>\n",
       "      <td>533.89</td>\n",
       "      <td>3</td>\n",
       "      <td>2</td>\n",
       "      <td>0</td>\n",
       "      <td>0</td>\n",
       "      <td>30.24</td>\n",
       "      <td>10000</td>\n",
       "      <td>0</td>\n",
       "      <td>0</td>\n",
       "      <td>FR561</td>\n",
       "      <td>RYR</td>\n",
       "      <td>B738</td>\n",
       "      <td>318.115097</td>\n",
       "      <td>8.066667</td>\n",
       "    </tr>\n",
       "    <tr>\n",
       "      <th>3014</th>\n",
       "      <td>1</td>\n",
       "      <td>1354.652094</td>\n",
       "      <td>0.000000</td>\n",
       "      <td>1</td>\n",
       "      <td>309.99</td>\n",
       "      <td>0</td>\n",
       "      <td>0</td>\n",
       "      <td>0</td>\n",
       "      <td>0</td>\n",
       "      <td>30.24</td>\n",
       "      <td>10000</td>\n",
       "      <td>0</td>\n",
       "      <td>0</td>\n",
       "      <td>EW1344</td>\n",
       "      <td>EWG</td>\n",
       "      <td>A320</td>\n",
       "      <td>198.535773</td>\n",
       "      <td>7.283333</td>\n",
       "    </tr>\n",
       "    <tr>\n",
       "      <th>3015</th>\n",
       "      <td>0</td>\n",
       "      <td>2859.924948</td>\n",
       "      <td>1417.437268</td>\n",
       "      <td>1</td>\n",
       "      <td>891.62</td>\n",
       "      <td>3</td>\n",
       "      <td>0</td>\n",
       "      <td>0</td>\n",
       "      <td>0</td>\n",
       "      <td>30.24</td>\n",
       "      <td>10000</td>\n",
       "      <td>0</td>\n",
       "      <td>0</td>\n",
       "      <td>ZB654</td>\n",
       "      <td>MON</td>\n",
       "      <td>A321</td>\n",
       "      <td>292.353350</td>\n",
       "      <td>12.100000</td>\n",
       "    </tr>\n",
       "    <tr>\n",
       "      <th>3016</th>\n",
       "      <td>1</td>\n",
       "      <td>1938.292575</td>\n",
       "      <td>1020.312594</td>\n",
       "      <td>1</td>\n",
       "      <td>488.09</td>\n",
       "      <td>0</td>\n",
       "      <td>0</td>\n",
       "      <td>4</td>\n",
       "      <td>1</td>\n",
       "      <td>30.24</td>\n",
       "      <td>10000</td>\n",
       "      <td>0</td>\n",
       "      <td>0</td>\n",
       "      <td>FR37</td>\n",
       "      <td>RYR</td>\n",
       "      <td>B738</td>\n",
       "      <td>148.911978</td>\n",
       "      <td>3.783333</td>\n",
       "    </tr>\n",
       "    <tr>\n",
       "      <th>3017</th>\n",
       "      <td>0</td>\n",
       "      <td>2377.031859</td>\n",
       "      <td>1417.437268</td>\n",
       "      <td>1</td>\n",
       "      <td>602.85</td>\n",
       "      <td>0</td>\n",
       "      <td>0</td>\n",
       "      <td>0</td>\n",
       "      <td>0</td>\n",
       "      <td>30.24</td>\n",
       "      <td>10000</td>\n",
       "      <td>0</td>\n",
       "      <td>0</td>\n",
       "      <td>ZB516</td>\n",
       "      <td>MON</td>\n",
       "      <td>A321</td>\n",
       "      <td>254.282602</td>\n",
       "      <td>5.116667</td>\n",
       "    </tr>\n",
       "  </tbody>\n",
       "</table>\n",
       "<p>3018 rows × 18 columns</p>\n",
       "</div>"
      ],
      "text/plain": [
       "     depArr     distance  distance_long  operation_mode  angle_sum  NDepDep  \\\n",
       "0         0  2815.376892    1417.437268               1     873.74        4   \n",
       "1         0  1612.045476    1169.957521               1     494.78        2   \n",
       "2         1  1311.209416       0.000000               1     514.56        0   \n",
       "3         1  2079.607054       0.000000               1     664.49        0   \n",
       "4         0  1129.205020     822.871797               1     551.01        1   \n",
       "...     ...          ...            ...             ...        ...      ...   \n",
       "3013      0  1009.294221     756.386082               1     533.89        3   \n",
       "3014      1  1354.652094       0.000000               1     309.99        0   \n",
       "3015      0  2859.924948    1417.437268               1     891.62        3   \n",
       "3016      1  1938.292575    1020.312594               1     488.09        0   \n",
       "3017      0  2377.031859    1417.437268               1     602.85        0   \n",
       "\n",
       "      NDepArr  NArrDep  NArrArr  Pressure  VisibilityInMeters  isRain  isSnow  \\\n",
       "0           0        0        0     30.15                6000       0       0   \n",
       "1           0        0        0     30.15                6000       0       0   \n",
       "2           0        0        0     30.18                9000       1       0   \n",
       "3           0        0        0     30.12               10000       0       0   \n",
       "4           0        0        0     30.15                6000       0       0   \n",
       "...       ...      ...      ...       ...                 ...     ...     ...   \n",
       "3013        2        0        0     30.24               10000       0       0   \n",
       "3014        0        0        0     30.24               10000       0       0   \n",
       "3015        0        0        0     30.24               10000       0       0   \n",
       "3016        0        4        1     30.24               10000       0       0   \n",
       "3017        0        0        0     30.24               10000       0       0   \n",
       "\n",
       "     flightNumber airline aircraftModel  AvgSpdLast10   TaxiTime  \n",
       "0          TK1994     THY          A321    238.776244  17.200000  \n",
       "1          SN2174     BEL          A319    268.150889  13.883333  \n",
       "2           PK721     PIA          B77L    330.556996   3.966667  \n",
       "3           A3638     AEE          A320    331.262804   9.266667  \n",
       "4          KL1082     KLM          B738    273.926372  11.950000  \n",
       "...           ...     ...           ...           ...        ...  \n",
       "3013        FR561     RYR          B738    318.115097   8.066667  \n",
       "3014       EW1344     EWG          A320    198.535773   7.283333  \n",
       "3015        ZB654     MON          A321    292.353350  12.100000  \n",
       "3016         FR37     RYR          B738    148.911978   3.783333  \n",
       "3017        ZB516     MON          A321    254.282602   5.116667  \n",
       "\n",
       "[3018 rows x 18 columns]"
      ]
     },
     "execution_count": 2,
     "metadata": {},
     "output_type": "execute_result"
    }
   ],
   "source": [
    "# take a look at the raw data (Data Table in Orange)\n",
    "df"
   ]
  },
  {
   "cell_type": "code",
   "execution_count": 3,
   "metadata": {},
   "outputs": [
    {
     "data": {
      "text/html": [
       "<div>\n",
       "<style scoped>\n",
       "    .dataframe tbody tr th:only-of-type {\n",
       "        vertical-align: middle;\n",
       "    }\n",
       "\n",
       "    .dataframe tbody tr th {\n",
       "        vertical-align: top;\n",
       "    }\n",
       "\n",
       "    .dataframe thead th {\n",
       "        text-align: right;\n",
       "    }\n",
       "</style>\n",
       "<table border=\"1\" class=\"dataframe\">\n",
       "  <thead>\n",
       "    <tr style=\"text-align: right;\">\n",
       "      <th></th>\n",
       "      <th>depArr</th>\n",
       "      <th>distance</th>\n",
       "      <th>distance_long</th>\n",
       "      <th>operation_mode</th>\n",
       "      <th>angle_sum</th>\n",
       "      <th>NDepDep</th>\n",
       "      <th>NDepArr</th>\n",
       "      <th>NArrDep</th>\n",
       "      <th>NArrArr</th>\n",
       "      <th>Pressure</th>\n",
       "      <th>VisibilityInMeters</th>\n",
       "      <th>isRain</th>\n",
       "      <th>isSnow</th>\n",
       "      <th>flightNumber</th>\n",
       "      <th>airline</th>\n",
       "      <th>aircraftModel</th>\n",
       "      <th>AvgSpdLast10</th>\n",
       "      <th>TaxiTime</th>\n",
       "    </tr>\n",
       "  </thead>\n",
       "  <tbody>\n",
       "    <tr>\n",
       "      <th>count</th>\n",
       "      <td>3018</td>\n",
       "      <td>3018.000000</td>\n",
       "      <td>3018.000000</td>\n",
       "      <td>3018.0</td>\n",
       "      <td>3018.000000</td>\n",
       "      <td>3018.000000</td>\n",
       "      <td>3018.000000</td>\n",
       "      <td>3018.000000</td>\n",
       "      <td>3018.000000</td>\n",
       "      <td>3018.000000</td>\n",
       "      <td>3018.000000</td>\n",
       "      <td>3018.000000</td>\n",
       "      <td>3018.000000</td>\n",
       "      <td>2957</td>\n",
       "      <td>3006</td>\n",
       "      <td>3018</td>\n",
       "      <td>3018.000000</td>\n",
       "      <td>3018.000000</td>\n",
       "    </tr>\n",
       "    <tr>\n",
       "      <th>unique</th>\n",
       "      <td>4</td>\n",
       "      <td>NaN</td>\n",
       "      <td>NaN</td>\n",
       "      <td>NaN</td>\n",
       "      <td>NaN</td>\n",
       "      <td>NaN</td>\n",
       "      <td>NaN</td>\n",
       "      <td>NaN</td>\n",
       "      <td>NaN</td>\n",
       "      <td>NaN</td>\n",
       "      <td>NaN</td>\n",
       "      <td>NaN</td>\n",
       "      <td>NaN</td>\n",
       "      <td>658</td>\n",
       "      <td>52</td>\n",
       "      <td>34</td>\n",
       "      <td>NaN</td>\n",
       "      <td>NaN</td>\n",
       "    </tr>\n",
       "    <tr>\n",
       "      <th>top</th>\n",
       "      <td>0</td>\n",
       "      <td>NaN</td>\n",
       "      <td>NaN</td>\n",
       "      <td>NaN</td>\n",
       "      <td>NaN</td>\n",
       "      <td>NaN</td>\n",
       "      <td>NaN</td>\n",
       "      <td>NaN</td>\n",
       "      <td>NaN</td>\n",
       "      <td>NaN</td>\n",
       "      <td>NaN</td>\n",
       "      <td>NaN</td>\n",
       "      <td>NaN</td>\n",
       "      <td>FR3501</td>\n",
       "      <td>RYR</td>\n",
       "      <td>B738</td>\n",
       "      <td>NaN</td>\n",
       "      <td>NaN</td>\n",
       "    </tr>\n",
       "    <tr>\n",
       "      <th>freq</th>\n",
       "      <td>2140</td>\n",
       "      <td>NaN</td>\n",
       "      <td>NaN</td>\n",
       "      <td>NaN</td>\n",
       "      <td>NaN</td>\n",
       "      <td>NaN</td>\n",
       "      <td>NaN</td>\n",
       "      <td>NaN</td>\n",
       "      <td>NaN</td>\n",
       "      <td>NaN</td>\n",
       "      <td>NaN</td>\n",
       "      <td>NaN</td>\n",
       "      <td>NaN</td>\n",
       "      <td>17</td>\n",
       "      <td>653</td>\n",
       "      <td>927</td>\n",
       "      <td>NaN</td>\n",
       "      <td>NaN</td>\n",
       "    </tr>\n",
       "    <tr>\n",
       "      <th>mean</th>\n",
       "      <td>NaN</td>\n",
       "      <td>1924.581844</td>\n",
       "      <td>941.184434</td>\n",
       "      <td>1.0</td>\n",
       "      <td>542.495480</td>\n",
       "      <td>1.294566</td>\n",
       "      <td>0.164679</td>\n",
       "      <td>0.402584</td>\n",
       "      <td>0.069251</td>\n",
       "      <td>29.907956</td>\n",
       "      <td>9686.514248</td>\n",
       "      <td>0.160371</td>\n",
       "      <td>0.001657</td>\n",
       "      <td>NaN</td>\n",
       "      <td>NaN</td>\n",
       "      <td>NaN</td>\n",
       "      <td>250.557053</td>\n",
       "      <td>9.794489</td>\n",
       "    </tr>\n",
       "    <tr>\n",
       "      <th>std</th>\n",
       "      <td>NaN</td>\n",
       "      <td>640.659622</td>\n",
       "      <td>527.650186</td>\n",
       "      <td>0.0</td>\n",
       "      <td>184.749681</td>\n",
       "      <td>1.457966</td>\n",
       "      <td>0.435100</td>\n",
       "      <td>1.012985</td>\n",
       "      <td>0.278810</td>\n",
       "      <td>0.279243</td>\n",
       "      <td>1074.571413</td>\n",
       "      <td>0.367011</td>\n",
       "      <td>0.040676</td>\n",
       "      <td>NaN</td>\n",
       "      <td>NaN</td>\n",
       "      <td>NaN</td>\n",
       "      <td>56.426977</td>\n",
       "      <td>5.695913</td>\n",
       "    </tr>\n",
       "    <tr>\n",
       "      <th>min</th>\n",
       "      <td>NaN</td>\n",
       "      <td>355.282084</td>\n",
       "      <td>0.000000</td>\n",
       "      <td>1.0</td>\n",
       "      <td>89.970000</td>\n",
       "      <td>0.000000</td>\n",
       "      <td>0.000000</td>\n",
       "      <td>0.000000</td>\n",
       "      <td>0.000000</td>\n",
       "      <td>29.230000</td>\n",
       "      <td>2200.000000</td>\n",
       "      <td>0.000000</td>\n",
       "      <td>0.000000</td>\n",
       "      <td>NaN</td>\n",
       "      <td>NaN</td>\n",
       "      <td>NaN</td>\n",
       "      <td>97.656837</td>\n",
       "      <td>0.366667</td>\n",
       "    </tr>\n",
       "    <tr>\n",
       "      <th>25%</th>\n",
       "      <td>NaN</td>\n",
       "      <td>1560.752463</td>\n",
       "      <td>655.085138</td>\n",
       "      <td>1.0</td>\n",
       "      <td>412.260000</td>\n",
       "      <td>0.000000</td>\n",
       "      <td>0.000000</td>\n",
       "      <td>0.000000</td>\n",
       "      <td>0.000000</td>\n",
       "      <td>29.680000</td>\n",
       "      <td>10000.000000</td>\n",
       "      <td>0.000000</td>\n",
       "      <td>0.000000</td>\n",
       "      <td>NaN</td>\n",
       "      <td>NaN</td>\n",
       "      <td>NaN</td>\n",
       "      <td>211.996491</td>\n",
       "      <td>5.604167</td>\n",
       "    </tr>\n",
       "    <tr>\n",
       "      <th>50%</th>\n",
       "      <td>NaN</td>\n",
       "      <td>1899.756794</td>\n",
       "      <td>977.407659</td>\n",
       "      <td>1.0</td>\n",
       "      <td>524.240000</td>\n",
       "      <td>1.000000</td>\n",
       "      <td>0.000000</td>\n",
       "      <td>0.000000</td>\n",
       "      <td>0.000000</td>\n",
       "      <td>29.940000</td>\n",
       "      <td>10000.000000</td>\n",
       "      <td>0.000000</td>\n",
       "      <td>0.000000</td>\n",
       "      <td>NaN</td>\n",
       "      <td>NaN</td>\n",
       "      <td>NaN</td>\n",
       "      <td>246.253041</td>\n",
       "      <td>9.166667</td>\n",
       "    </tr>\n",
       "    <tr>\n",
       "      <th>75%</th>\n",
       "      <td>NaN</td>\n",
       "      <td>2422.271051</td>\n",
       "      <td>1358.082550</td>\n",
       "      <td>1.0</td>\n",
       "      <td>651.060000</td>\n",
       "      <td>2.000000</td>\n",
       "      <td>0.000000</td>\n",
       "      <td>0.000000</td>\n",
       "      <td>0.000000</td>\n",
       "      <td>30.180000</td>\n",
       "      <td>10000.000000</td>\n",
       "      <td>0.000000</td>\n",
       "      <td>0.000000</td>\n",
       "      <td>NaN</td>\n",
       "      <td>NaN</td>\n",
       "      <td>NaN</td>\n",
       "      <td>283.505081</td>\n",
       "      <td>13.033333</td>\n",
       "    </tr>\n",
       "    <tr>\n",
       "      <th>max</th>\n",
       "      <td>NaN</td>\n",
       "      <td>3600.619400</td>\n",
       "      <td>3036.800151</td>\n",
       "      <td>1.0</td>\n",
       "      <td>1290.350000</td>\n",
       "      <td>7.000000</td>\n",
       "      <td>3.000000</td>\n",
       "      <td>7.000000</td>\n",
       "      <td>2.000000</td>\n",
       "      <td>30.330000</td>\n",
       "      <td>10000.000000</td>\n",
       "      <td>1.000000</td>\n",
       "      <td>1.000000</td>\n",
       "      <td>NaN</td>\n",
       "      <td>NaN</td>\n",
       "      <td>NaN</td>\n",
       "      <td>511.776748</td>\n",
       "      <td>117.766667</td>\n",
       "    </tr>\n",
       "  </tbody>\n",
       "</table>\n",
       "</div>"
      ],
      "text/plain": [
       "       depArr     distance  distance_long  operation_mode    angle_sum  \\\n",
       "count    3018  3018.000000    3018.000000          3018.0  3018.000000   \n",
       "unique      4          NaN            NaN             NaN          NaN   \n",
       "top         0          NaN            NaN             NaN          NaN   \n",
       "freq     2140          NaN            NaN             NaN          NaN   \n",
       "mean      NaN  1924.581844     941.184434             1.0   542.495480   \n",
       "std       NaN   640.659622     527.650186             0.0   184.749681   \n",
       "min       NaN   355.282084       0.000000             1.0    89.970000   \n",
       "25%       NaN  1560.752463     655.085138             1.0   412.260000   \n",
       "50%       NaN  1899.756794     977.407659             1.0   524.240000   \n",
       "75%       NaN  2422.271051    1358.082550             1.0   651.060000   \n",
       "max       NaN  3600.619400    3036.800151             1.0  1290.350000   \n",
       "\n",
       "            NDepDep      NDepArr      NArrDep      NArrArr     Pressure  \\\n",
       "count   3018.000000  3018.000000  3018.000000  3018.000000  3018.000000   \n",
       "unique          NaN          NaN          NaN          NaN          NaN   \n",
       "top             NaN          NaN          NaN          NaN          NaN   \n",
       "freq            NaN          NaN          NaN          NaN          NaN   \n",
       "mean       1.294566     0.164679     0.402584     0.069251    29.907956   \n",
       "std        1.457966     0.435100     1.012985     0.278810     0.279243   \n",
       "min        0.000000     0.000000     0.000000     0.000000    29.230000   \n",
       "25%        0.000000     0.000000     0.000000     0.000000    29.680000   \n",
       "50%        1.000000     0.000000     0.000000     0.000000    29.940000   \n",
       "75%        2.000000     0.000000     0.000000     0.000000    30.180000   \n",
       "max        7.000000     3.000000     7.000000     2.000000    30.330000   \n",
       "\n",
       "        VisibilityInMeters       isRain       isSnow flightNumber airline  \\\n",
       "count          3018.000000  3018.000000  3018.000000         2957    3006   \n",
       "unique                 NaN          NaN          NaN          658      52   \n",
       "top                    NaN          NaN          NaN       FR3501     RYR   \n",
       "freq                   NaN          NaN          NaN           17     653   \n",
       "mean           9686.514248     0.160371     0.001657          NaN     NaN   \n",
       "std            1074.571413     0.367011     0.040676          NaN     NaN   \n",
       "min            2200.000000     0.000000     0.000000          NaN     NaN   \n",
       "25%           10000.000000     0.000000     0.000000          NaN     NaN   \n",
       "50%           10000.000000     0.000000     0.000000          NaN     NaN   \n",
       "75%           10000.000000     0.000000     0.000000          NaN     NaN   \n",
       "max           10000.000000     1.000000     1.000000          NaN     NaN   \n",
       "\n",
       "       aircraftModel  AvgSpdLast10     TaxiTime  \n",
       "count           3018   3018.000000  3018.000000  \n",
       "unique            34           NaN          NaN  \n",
       "top             B738           NaN          NaN  \n",
       "freq             927           NaN          NaN  \n",
       "mean             NaN    250.557053     9.794489  \n",
       "std              NaN     56.426977     5.695913  \n",
       "min              NaN     97.656837     0.366667  \n",
       "25%              NaN    211.996491     5.604167  \n",
       "50%              NaN    246.253041     9.166667  \n",
       "75%              NaN    283.505081    13.033333  \n",
       "max              NaN    511.776748   117.766667  "
      ]
     },
     "execution_count": 3,
     "metadata": {},
     "output_type": "execute_result"
    }
   ],
   "source": [
    "# data types and summary stats...\n",
    "# \"include=all\" is needed to include all columns, otherwise we'll just get stats for numeric ones\n",
    "# here, we can see that depArr has 4 values (a little suspicous); operation_mode has a mean of 1.0 std (standard deviation) of 0.0, and min/max of 1.0, so it's all 1 value.\n",
    "df.describe(include=\"all\")"
   ]
  },
  {
   "cell_type": "code",
   "execution_count": 4,
   "metadata": {},
   "outputs": [
    {
     "data": {
      "text/plain": [
       "depArr                 0\n",
       "distance               0\n",
       "distance_long          0\n",
       "operation_mode         0\n",
       "angle_sum              0\n",
       "NDepDep                0\n",
       "NDepArr                0\n",
       "NArrDep                0\n",
       "NArrArr                0\n",
       "Pressure               0\n",
       "VisibilityInMeters     0\n",
       "isRain                 0\n",
       "isSnow                 0\n",
       "flightNumber          61\n",
       "airline               12\n",
       "aircraftModel          0\n",
       "AvgSpdLast10           0\n",
       "TaxiTime               0\n",
       "dtype: int64"
      ]
     },
     "execution_count": 4,
     "metadata": {},
     "output_type": "execute_result"
    }
   ],
   "source": [
    "# count the nulls/missing data in each column\n",
    "# not too bad - we might need to fill/delete these rows later\n",
    "df.isnull().sum()"
   ]
  },
  {
   "cell_type": "code",
   "execution_count": 5,
   "metadata": {
    "scrolled": true
   },
   "outputs": [
    {
     "data": {
      "text/plain": [
       "array([[<AxesSubplot:title={'center':'distance'}>,\n",
       "        <AxesSubplot:title={'center':'distance_long'}>,\n",
       "        <AxesSubplot:title={'center':'operation_mode'}>,\n",
       "        <AxesSubplot:title={'center':'angle_sum'}>],\n",
       "       [<AxesSubplot:title={'center':'NDepDep'}>,\n",
       "        <AxesSubplot:title={'center':'NDepArr'}>,\n",
       "        <AxesSubplot:title={'center':'NArrDep'}>,\n",
       "        <AxesSubplot:title={'center':'NArrArr'}>],\n",
       "       [<AxesSubplot:title={'center':'Pressure'}>,\n",
       "        <AxesSubplot:title={'center':'VisibilityInMeters'}>,\n",
       "        <AxesSubplot:title={'center':'isRain'}>,\n",
       "        <AxesSubplot:title={'center':'isSnow'}>],\n",
       "       [<AxesSubplot:title={'center':'AvgSpdLast10'}>,\n",
       "        <AxesSubplot:title={'center':'TaxiTime'}>, <AxesSubplot:>,\n",
       "        <AxesSubplot:>]], dtype=object)"
      ]
     },
     "execution_count": 5,
     "metadata": {},
     "output_type": "execute_result"
    },
    {
     "data": {
      "image/png": "[encoded data removed]",
      "text/plain": [
       "<Figure size 1080x1440 with 16 Axes>"
      ]
     },
     "metadata": {
      "needs_background": "light"
     },
     "output_type": "display_data"
    }
   ],
   "source": [
    "# Plot distributions...\n",
    "df.hist(figsize = (15,20))"
   ]
  },
  {
   "cell_type": "code",
   "execution_count": 6,
   "metadata": {},
   "outputs": [
    {
     "data": {
      "text/plain": [
       "<AxesSubplot:>"
      ]
     },
     "execution_count": 6,
     "metadata": {},
     "output_type": "execute_result"
    },
    {
     "data": {
      "image/png": "[encoded data removed]",
      "text/plain": [
       "<Figure size 432x288 with 1 Axes>"
      ]
     },
     "metadata": {
      "needs_background": "light"
     },
     "output_type": "display_data"
    }
   ],
   "source": [
    "#...okay, we can see some issues with these distributions. Can you spot them?\n",
    "\n",
    "# NOTE: we are also missing some variables. Those are\n",
    "# the non-numeric ones: depArr; flightNumber; airline; aircraftModel\n",
    "# There's not really an easy way to handle these,\n",
    "# so we'll try a bar plot one at a time for them:\n",
    "df['depArr'].value_counts().plot(kind='bar')"
   ]
  },
  {
   "cell_type": "code",
   "execution_count": 7,
   "metadata": {},
   "outputs": [
    {
     "name": "stdout",
     "output_type": "stream",
     "text": [
      "depArr\n"
     ]
    },
    {
     "data": {
      "image/png": "[encoded data removed]",
      "text/plain": [
       "<Figure size 432x288 with 1 Axes>"
      ]
     },
     "metadata": {
      "needs_background": "light"
     },
     "output_type": "display_data"
    },
    {
     "name": "stdout",
     "output_type": "stream",
     "text": [
      "flightNumber\n"
     ]
    },
    {
     "data": {
      "image/png": "[encoded data removed]",
      "text/plain": [
       "<Figure size 432x288 with 1 Axes>"
      ]
     },
     "metadata": {
      "needs_background": "light"
     },
     "output_type": "display_data"
    },
    {
     "name": "stdout",
     "output_type": "stream",
     "text": [
      "airline\n"
     ]
    },
    {
     "data": {
      "image/png": "[encoded data removed]",
      "text/plain": [
       "<Figure size 432x288 with 1 Axes>"
      ]
     },
     "metadata": {
      "needs_background": "light"
     },
     "output_type": "display_data"
    },
    {
     "name": "stdout",
     "output_type": "stream",
     "text": [
      "aircraftModel\n"
     ]
    },
    {
     "data": {
      "image/png": "[encoded data removed]",
      "text/plain": [
       "<Figure size 432x288 with 1 Axes>"
      ]
     },
     "metadata": {
      "needs_background": "light"
     },
     "output_type": "display_data"
    }
   ],
   "source": [
    "# this will list the non-numeric columns...\n",
    "#df.select_dtypes(include=object)\n",
    "\n",
    "# so loop over all of them; count each unique value, and plot...\n",
    "import matplotlib.pyplot as plt\n",
    "for col in df.select_dtypes(include=object).columns: \n",
    "    print(col)\n",
    "    df[col].value_counts().plot(kind='bar')\n",
    "    plt.show()"
   ]
  },
  {
   "cell_type": "code",
   "execution_count": 8,
   "metadata": {},
   "outputs": [
    {
     "data": {
      "text/html": [
       "<div>\n",
       "<style scoped>\n",
       "    .dataframe tbody tr th:only-of-type {\n",
       "        vertical-align: middle;\n",
       "    }\n",
       "\n",
       "    .dataframe tbody tr th {\n",
       "        vertical-align: top;\n",
       "    }\n",
       "\n",
       "    .dataframe thead th {\n",
       "        text-align: right;\n",
       "    }\n",
       "</style>\n",
       "<table border=\"1\" class=\"dataframe\">\n",
       "  <thead>\n",
       "    <tr style=\"text-align: right;\">\n",
       "      <th></th>\n",
       "      <th>depArr</th>\n",
       "      <th>distance</th>\n",
       "      <th>distance_long</th>\n",
       "      <th>angle_sum</th>\n",
       "      <th>NDepDep</th>\n",
       "      <th>NDepArr</th>\n",
       "      <th>NArrDep</th>\n",
       "      <th>NArrArr</th>\n",
       "      <th>Pressure</th>\n",
       "      <th>isRain</th>\n",
       "      <th>isSnow</th>\n",
       "      <th>AvgSpdLast10</th>\n",
       "    </tr>\n",
       "  </thead>\n",
       "  <tbody>\n",
       "    <tr>\n",
       "      <th>0</th>\n",
       "      <td>0</td>\n",
       "      <td>2815.376892</td>\n",
       "      <td>1417.437268</td>\n",
       "      <td>873.74</td>\n",
       "      <td>4</td>\n",
       "      <td>0</td>\n",
       "      <td>0</td>\n",
       "      <td>0</td>\n",
       "      <td>30.15</td>\n",
       "      <td>0</td>\n",
       "      <td>0</td>\n",
       "      <td>238.776244</td>\n",
       "    </tr>\n",
       "    <tr>\n",
       "      <th>1</th>\n",
       "      <td>0</td>\n",
       "      <td>1612.045476</td>\n",
       "      <td>1169.957521</td>\n",
       "      <td>494.78</td>\n",
       "      <td>2</td>\n",
       "      <td>0</td>\n",
       "      <td>0</td>\n",
       "      <td>0</td>\n",
       "      <td>30.15</td>\n",
       "      <td>0</td>\n",
       "      <td>0</td>\n",
       "      <td>268.150889</td>\n",
       "    </tr>\n",
       "    <tr>\n",
       "      <th>2</th>\n",
       "      <td>1</td>\n",
       "      <td>1311.209416</td>\n",
       "      <td>0.000000</td>\n",
       "      <td>514.56</td>\n",
       "      <td>0</td>\n",
       "      <td>0</td>\n",
       "      <td>0</td>\n",
       "      <td>0</td>\n",
       "      <td>30.18</td>\n",
       "      <td>1</td>\n",
       "      <td>0</td>\n",
       "      <td>330.556996</td>\n",
       "    </tr>\n",
       "    <tr>\n",
       "      <th>3</th>\n",
       "      <td>1</td>\n",
       "      <td>2079.607054</td>\n",
       "      <td>0.000000</td>\n",
       "      <td>664.49</td>\n",
       "      <td>0</td>\n",
       "      <td>0</td>\n",
       "      <td>0</td>\n",
       "      <td>0</td>\n",
       "      <td>30.12</td>\n",
       "      <td>0</td>\n",
       "      <td>0</td>\n",
       "      <td>331.262804</td>\n",
       "    </tr>\n",
       "    <tr>\n",
       "      <th>4</th>\n",
       "      <td>0</td>\n",
       "      <td>1129.205020</td>\n",
       "      <td>822.871797</td>\n",
       "      <td>551.01</td>\n",
       "      <td>1</td>\n",
       "      <td>0</td>\n",
       "      <td>0</td>\n",
       "      <td>0</td>\n",
       "      <td>30.15</td>\n",
       "      <td>0</td>\n",
       "      <td>0</td>\n",
       "      <td>273.926372</td>\n",
       "    </tr>\n",
       "    <tr>\n",
       "      <th>...</th>\n",
       "      <td>...</td>\n",
       "      <td>...</td>\n",
       "      <td>...</td>\n",
       "      <td>...</td>\n",
       "      <td>...</td>\n",
       "      <td>...</td>\n",
       "      <td>...</td>\n",
       "      <td>...</td>\n",
       "      <td>...</td>\n",
       "      <td>...</td>\n",
       "      <td>...</td>\n",
       "      <td>...</td>\n",
       "    </tr>\n",
       "    <tr>\n",
       "      <th>3013</th>\n",
       "      <td>0</td>\n",
       "      <td>1009.294221</td>\n",
       "      <td>756.386082</td>\n",
       "      <td>533.89</td>\n",
       "      <td>3</td>\n",
       "      <td>2</td>\n",
       "      <td>0</td>\n",
       "      <td>0</td>\n",
       "      <td>30.24</td>\n",
       "      <td>0</td>\n",
       "      <td>0</td>\n",
       "      <td>318.115097</td>\n",
       "    </tr>\n",
       "    <tr>\n",
       "      <th>3014</th>\n",
       "      <td>1</td>\n",
       "      <td>1354.652094</td>\n",
       "      <td>0.000000</td>\n",
       "      <td>309.99</td>\n",
       "      <td>0</td>\n",
       "      <td>0</td>\n",
       "      <td>0</td>\n",
       "      <td>0</td>\n",
       "      <td>30.24</td>\n",
       "      <td>0</td>\n",
       "      <td>0</td>\n",
       "      <td>198.535773</td>\n",
       "    </tr>\n",
       "    <tr>\n",
       "      <th>3015</th>\n",
       "      <td>0</td>\n",
       "      <td>2859.924948</td>\n",
       "      <td>1417.437268</td>\n",
       "      <td>891.62</td>\n",
       "      <td>3</td>\n",
       "      <td>0</td>\n",
       "      <td>0</td>\n",
       "      <td>0</td>\n",
       "      <td>30.24</td>\n",
       "      <td>0</td>\n",
       "      <td>0</td>\n",
       "      <td>292.353350</td>\n",
       "    </tr>\n",
       "    <tr>\n",
       "      <th>3016</th>\n",
       "      <td>1</td>\n",
       "      <td>1938.292575</td>\n",
       "      <td>1020.312594</td>\n",
       "      <td>488.09</td>\n",
       "      <td>0</td>\n",
       "      <td>0</td>\n",
       "      <td>4</td>\n",
       "      <td>1</td>\n",
       "      <td>30.24</td>\n",
       "      <td>0</td>\n",
       "      <td>0</td>\n",
       "      <td>148.911978</td>\n",
       "    </tr>\n",
       "    <tr>\n",
       "      <th>3017</th>\n",
       "      <td>0</td>\n",
       "      <td>2377.031859</td>\n",
       "      <td>1417.437268</td>\n",
       "      <td>602.85</td>\n",
       "      <td>0</td>\n",
       "      <td>0</td>\n",
       "      <td>0</td>\n",
       "      <td>0</td>\n",
       "      <td>30.24</td>\n",
       "      <td>0</td>\n",
       "      <td>0</td>\n",
       "      <td>254.282602</td>\n",
       "    </tr>\n",
       "  </tbody>\n",
       "</table>\n",
       "<p>3018 rows × 12 columns</p>\n",
       "</div>"
      ],
      "text/plain": [
       "     depArr     distance  distance_long  angle_sum  NDepDep  NDepArr  NArrDep  \\\n",
       "0         0  2815.376892    1417.437268     873.74        4        0        0   \n",
       "1         0  1612.045476    1169.957521     494.78        2        0        0   \n",
       "2         1  1311.209416       0.000000     514.56        0        0        0   \n",
       "3         1  2079.607054       0.000000     664.49        0        0        0   \n",
       "4         0  1129.205020     822.871797     551.01        1        0        0   \n",
       "...     ...          ...            ...        ...      ...      ...      ...   \n",
       "3013      0  1009.294221     756.386082     533.89        3        2        0   \n",
       "3014      1  1354.652094       0.000000     309.99        0        0        0   \n",
       "3015      0  2859.924948    1417.437268     891.62        3        0        0   \n",
       "3016      1  1938.292575    1020.312594     488.09        0        0        4   \n",
       "3017      0  2377.031859    1417.437268     602.85        0        0        0   \n",
       "\n",
       "      NArrArr  Pressure  isRain  isSnow  AvgSpdLast10  \n",
       "0           0     30.15       0       0    238.776244  \n",
       "1           0     30.15       0       0    268.150889  \n",
       "2           0     30.18       1       0    330.556996  \n",
       "3           0     30.12       0       0    331.262804  \n",
       "4           0     30.15       0       0    273.926372  \n",
       "...       ...       ...     ...     ...           ...  \n",
       "3013        0     30.24       0       0    318.115097  \n",
       "3014        0     30.24       0       0    198.535773  \n",
       "3015        0     30.24       0       0    292.353350  \n",
       "3016        1     30.24       0       0    148.911978  \n",
       "3017        0     30.24       0       0    254.282602  \n",
       "\n",
       "[3018 rows x 12 columns]"
      ]
     },
     "execution_count": 8,
     "metadata": {},
     "output_type": "execute_result"
    }
   ],
   "source": [
    "# at this point we can discard obviously useless variables.\n",
    "# I've chosen flightNumber, airline and aircraftModel - can you think why?\n",
    "#\n",
    "# We might also use some other feature ranking approaches; having settled on\n",
    "# our desired features, we select them by just referring to the data frame \n",
    "# using a list of the features names we want:\n",
    "\n",
    "# define the list\n",
    "selected_features = ['depArr', 'distance', 'distance_long', 'angle_sum',\n",
    "       'NDepDep', 'NDepArr', 'NArrDep', 'NArrArr', 'Pressure',\n",
    "       'isRain', 'isSnow', 'AvgSpdLast10']\n",
    "\n",
    "# how to use it\n",
    "df[selected_features]"
   ]
  },
  {
   "cell_type": "markdown",
   "metadata": {},
   "source": [
    "# Data Preparation\n",
    "Now on to cleaning the data..."
   ]
  },
  {
   "cell_type": "code",
   "execution_count": 9,
   "metadata": {},
   "outputs": [],
   "source": [
    "# train/test split\n",
    "# we could do this after conversion to numpy arrays\n",
    "# but it's more convenient to do some of the data cleaning in a DataFrame\n",
    "# so we'll keep the data in that form for now.\n",
    "df_copy = df.copy()\n",
    "df_train = df_copy.sample(frac=0.75, random_state=0)\n",
    "df_test = df_copy.drop(df_train.index)"
   ]
  },
  {
   "cell_type": "code",
   "execution_count": 10,
   "metadata": {},
   "outputs": [
    {
     "data": {
      "text/plain": [
       "<AxesSubplot:>"
      ]
     },
     "execution_count": 10,
     "metadata": {},
     "output_type": "execute_result"
    },
    {
     "data": {
      "image/png": "[encoded data removed]",
      "text/plain": [
       "<Figure size 432x288 with 1 Axes>"
      ]
     },
     "metadata": {
      "needs_background": "light"
     },
     "output_type": "display_data"
    }
   ],
   "source": [
    "# The histogram showed us depArr had some 'dep' and 'arr' values, which we'll map to 0 and 1\n",
    "# we can use a dictionary to set up the mapping...\n",
    "df_train['depArr'] = df_train['depArr'].replace({'dep':'0','arr':'1'})\n",
    "\n",
    "# just to check it's worked...\n",
    "df_train['depArr'].value_counts().plot(kind='bar')\n"
   ]
  },
  {
   "cell_type": "code",
   "execution_count": 11,
   "metadata": {},
   "outputs": [],
   "source": [
    "# we'll also select only the rows where taxi time is <= 30 mins\n",
    "df_train=df_train.loc[df_train['TaxiTime'] <= 30]"
   ]
  },
  {
   "cell_type": "code",
   "execution_count": 12,
   "metadata": {},
   "outputs": [],
   "source": [
    "# now we can map to numpy arrays\n",
    "X_train = df_train[selected_features].values\n",
    "y_train = df_train['TaxiTime'].values"
   ]
  },
  {
   "cell_type": "code",
   "execution_count": 13,
   "metadata": {},
   "outputs": [],
   "source": [
    "# normalise...\n",
    "from sklearn.preprocessing import MinMaxScaler\n",
    "\n",
    "mm_scaler = MinMaxScaler()\n",
    "X_train = mm_scaler.fit_transform(X_train)"
   ]
  },
  {
   "cell_type": "code",
   "execution_count": 14,
   "metadata": {},
   "outputs": [
    {
     "data": {
      "text/plain": [
       "array([[0.        , 0.68947378, 0.40266342, ..., 1.        , 0.        ,\n",
       "        0.28931283],\n",
       "       [0.        , 0.23176025, 0.30714377, ..., 0.        , 0.        ,\n",
       "        0.42823682],\n",
       "       [0.        , 0.48285776, 0.1981588 , ..., 0.        , 0.        ,\n",
       "        0.31388959],\n",
       "       ...,\n",
       "       [0.        , 0.42987341, 0.21789129, ..., 0.        , 0.        ,\n",
       "        0.3378819 ],\n",
       "       [0.        , 0.34575798, 0.33061234, ..., 0.        , 0.        ,\n",
       "        0.30337793],\n",
       "       [1.        , 0.3797565 , 0.19210264, ..., 1.        , 0.        ,\n",
       "        0.57683357]])"
      ]
     },
     "execution_count": 14,
     "metadata": {},
     "output_type": "execute_result"
    }
   ],
   "source": [
    "X_train"
   ]
  },
  {
   "cell_type": "markdown",
   "metadata": {},
   "source": [
    "# Modelling\n",
    "On to the modelling stage...\n",
    "\n",
    "First, we'll try just creating a list of different models, and looping over them, trying each on in turn."
   ]
  },
  {
   "cell_type": "code",
   "execution_count": 15,
   "metadata": {
    "scrolled": false
   },
   "outputs": [
    {
     "name": "stdout",
     "output_type": "stream",
     "text": [
      "LR: 0.517162 (0.038724)\n",
      "MLP: 0.525042 (0.037278)\n",
      "RF: 0.541090 (0.040626)\n"
     ]
    }
   ],
   "source": [
    "from sklearn.linear_model import LinearRegression\n",
    "from sklearn.neural_network import MLPRegressor\n",
    "from sklearn.ensemble import RandomForestRegressor\n",
    "from sklearn import model_selection\n",
    "\n",
    "# make a list of models to try...\n",
    "# you could have multiple copies of each model to try different hyperparameters here\n",
    "models = []\n",
    "models.append(('LR', LinearRegression()))\n",
    "models.append(('MLP', MLPRegressor(max_iter=500)))\n",
    "models.append(('RF', RandomForestRegressor()))\n",
    "\n",
    "# now we loop over the models\n",
    "# this is the equivalent of test+score in Orange\n",
    "# this is just a standard \"for\" loop - you could extend with your own search over features or hyperparameters here\n",
    "# or replace with e.g. GridSearchCV\n",
    "\n",
    "seed = 7 # this makes the \"random\" elements of the training process predictable. You can change it to any integer value see what effect that has.\n",
    "scoring = 'r2' # we'll be using the r^2 cost function; you can also provide a function here if you want to customise!\n",
    "results = [] # empty list to store results in\n",
    "names = [] # empty list to store the names of the model\n",
    "for name, model in models: # \"models\" is a list of 2-element lists; for each list in \"models\", copy the first element into a variable called \"name\" and the second into a variable called \"model\"\n",
    "    kfold = model_selection.KFold(n_splits=10, shuffle=True, random_state=seed) # kFold is an object that does all the work of splitting the data repeatedly (internally it's a list of split versions of the data, in the form of train/validation pairs)\n",
    "    cv_results = model_selection.cross_val_score(model, X_train, y_train, cv=kfold, scoring=scoring) # this takes each of the folds of the data in kFold, and trains/validates the model on them. The result is a list of scores - r2 in this case - one score for each fold.\n",
    "    results.append(cv_results) #We add this list of scores to the \"results\" list \n",
    "    names.append(name) # we add the name of the current model to the \"names\" list (each item in the names list will match the set of scores in the results list)\n",
    "    msg = \"%s: %f (%f)\" % (name, cv_results.mean(), cv_results.std()) # for the current model, print the mean and standard deviation of the scores from all folds\n",
    "    print(msg)"
   ]
  },
  {
   "cell_type": "markdown",
   "metadata": {},
   "source": [
    "That's all fine, but it's a bit annoying to write out all the configurations by hand. We can also do a grid search to explore hyperparameters, using a built-in sklearn function like this:"
   ]
  },
  {
   "cell_type": "code",
   "execution_count": 16,
   "metadata": {},
   "outputs": [
    {
     "data": {
      "text/plain": [
       "GridSearchCV(estimator=RandomForestRegressor(),\n",
       "             param_grid={'max_features': [2, 4, 8],\n",
       "                         'n_estimators': [50, 100, 200]})"
      ]
     },
     "execution_count": 16,
     "metadata": {},
     "output_type": "execute_result"
    }
   ],
   "source": [
    "from sklearn.model_selection import GridSearchCV\n",
    "\n",
    "rf = RandomForestRegressor()\n",
    "\n",
    "param_grid = {'n_estimators':[50, 100, 200], 'max_features':[2,4,8]}\n",
    "\n",
    "gs = GridSearchCV(rf, param_grid)\n",
    "\n",
    "gs.fit(X_train, y_train)"
   ]
  },
  {
   "cell_type": "markdown",
   "metadata": {},
   "source": [
    "The full set of results from the search can be found here:"
   ]
  },
  {
   "cell_type": "code",
   "execution_count": 17,
   "metadata": {},
   "outputs": [
    {
     "data": {
      "text/plain": [
       "{'mean_fit_time': array([0.09909325, 0.18651147, 0.40139012, 0.13088174, 0.25520325,\n",
       "        0.54590044, 0.18734484, 0.37120361, 0.72991157]),\n",
       " 'std_fit_time': array([0.00582099, 0.00322984, 0.01808849, 0.00560224, 0.00511104,\n",
       "        0.0308848 , 0.00678076, 0.00461826, 0.00711587]),\n",
       " 'mean_score_time': array([0.00788975, 0.01324096, 0.02790742, 0.00887418, 0.01482058,\n",
       "        0.03076158, 0.00768642, 0.0138041 , 0.02524261]),\n",
       " 'std_score_time': array([0.00128021, 0.00040452, 0.00190077, 0.00147717, 0.00105951,\n",
       "        0.00287454, 0.00152246, 0.00137193, 0.00075553]),\n",
       " 'param_max_features': masked_array(data=[2, 2, 2, 4, 4, 4, 8, 8, 8],\n",
       "              mask=[False, False, False, False, False, False, False, False,\n",
       "                    False],\n",
       "        fill_value='?',\n",
       "             dtype=object),\n",
       " 'param_n_estimators': masked_array(data=[50, 100, 200, 50, 100, 200, 50, 100, 200],\n",
       "              mask=[False, False, False, False, False, False, False, False,\n",
       "                    False],\n",
       "        fill_value='?',\n",
       "             dtype=object),\n",
       " 'params': [{'max_features': 2, 'n_estimators': 50},\n",
       "  {'max_features': 2, 'n_estimators': 100},\n",
       "  {'max_features': 2, 'n_estimators': 200},\n",
       "  {'max_features': 4, 'n_estimators': 50},\n",
       "  {'max_features': 4, 'n_estimators': 100},\n",
       "  {'max_features': 4, 'n_estimators': 200},\n",
       "  {'max_features': 8, 'n_estimators': 50},\n",
       "  {'max_features': 8, 'n_estimators': 100},\n",
       "  {'max_features': 8, 'n_estimators': 200}],\n",
       " 'split0_test_score': array([0.52959106, 0.53496717, 0.53552143, 0.52866142, 0.53773156,\n",
       "        0.54123429, 0.52739457, 0.54206674, 0.54723204]),\n",
       " 'split1_test_score': array([0.5083631 , 0.51949387, 0.51659688, 0.53518264, 0.52724989,\n",
       "        0.52557613, 0.51456999, 0.53289528, 0.52214295]),\n",
       " 'split2_test_score': array([0.52593691, 0.5419241 , 0.53596625, 0.53739808, 0.54489389,\n",
       "        0.54596145, 0.53635984, 0.55123903, 0.55087877]),\n",
       " 'split3_test_score': array([0.55648805, 0.56139024, 0.5669399 , 0.55836265, 0.56601529,\n",
       "        0.55965524, 0.5436566 , 0.54547037, 0.54891231]),\n",
       " 'split4_test_score': array([0.54850914, 0.5526604 , 0.56489589, 0.55995696, 0.55910298,\n",
       "        0.56632538, 0.56045431, 0.56299778, 0.56343787]),\n",
       " 'mean_test_score': array([0.53377765, 0.54208715, 0.54398407, 0.54391235, 0.54699872,\n",
       "        0.5477505 , 0.53648706, 0.54693384, 0.54652079]),\n",
       " 'std_test_score': array([0.01707444, 0.01446084, 0.0192366 , 0.01278652, 0.01406037,\n",
       "        0.01431163, 0.01541998, 0.00999496, 0.01345871]),\n",
       " 'rank_test_score': array([9, 7, 5, 6, 2, 1, 8, 3, 4], dtype=int32)}"
      ]
     },
     "execution_count": 17,
     "metadata": {},
     "output_type": "execute_result"
    }
   ],
   "source": [
    "gs.cv_results_"
   ]
  },
  {
   "cell_type": "markdown",
   "metadata": {},
   "source": [
    "More useful, though, is to get the best model, like this:"
   ]
  },
  {
   "cell_type": "code",
   "execution_count": 18,
   "metadata": {},
   "outputs": [
    {
     "name": "stdout",
     "output_type": "stream",
     "text": [
      "RandomForestRegressor(max_features=4, n_estimators=200)\n",
      "0.5477504990248023\n",
      "{'max_features': 4, 'n_estimators': 200}\n"
     ]
    }
   ],
   "source": [
    "bestModel = gs.best_estimator_\n",
    "print(bestModel)\n",
    "print(gs.best_score_)\n",
    "print(gs.best_params_)\n",
    "\n",
    "# you could then use bestModel in place of making a new \"rf\" further below too."
   ]
  },
  {
   "cell_type": "markdown",
   "metadata": {},
   "source": [
    "If grid search takes too long (too many hyperparameters to explore) then random search allows you to look at a smaller number of combinations. It works in much the same way:"
   ]
  },
  {
   "cell_type": "code",
   "execution_count": 19,
   "metadata": {},
   "outputs": [
    {
     "data": {
      "text/plain": [
       "RandomizedSearchCV(estimator=RandomForestRegressor(), n_iter=3,\n",
       "                   param_distributions={'max_features': [2, 4, 8],\n",
       "                                        'n_estimators': [50, 100, 200]})"
      ]
     },
     "execution_count": 19,
     "metadata": {},
     "output_type": "execute_result"
    }
   ],
   "source": [
    "from sklearn.model_selection import RandomizedSearchCV\n",
    "rs = RandomizedSearchCV(rf, param_grid, n_iter=3)\n",
    "rs.fit(X_train, y_train)\n"
   ]
  },
  {
   "cell_type": "code",
   "execution_count": 20,
   "metadata": {},
   "outputs": [
    {
     "name": "stdout",
     "output_type": "stream",
     "text": [
      "RandomForestRegressor(max_features=4, n_estimators=50)\n",
      "0.5443857591160318\n",
      "{'n_estimators': 50, 'max_features': 4}\n"
     ]
    }
   ],
   "source": [
    "bestModel = rs.best_estimator_\n",
    "print(bestModel)\n",
    "print(rs.best_score_)\n",
    "print(rs.best_params_)"
   ]
  },
  {
   "cell_type": "markdown",
   "metadata": {},
   "source": [
    "Having found our best model and hyperparameter configuration, we now train that model on all the training data so that it is ready for testing in the Evaluation stage..."
   ]
  },
  {
   "cell_type": "code",
   "execution_count": 21,
   "metadata": {},
   "outputs": [
    {
     "data": {
      "text/plain": [
       "RandomForestRegressor(max_features=8, n_estimators=200)"
      ]
     },
     "execution_count": 21,
     "metadata": {},
     "output_type": "execute_result"
    }
   ],
   "source": [
    "# Let's fit our best model to all of the training data and apply to the test data...\n",
    "# you set the hyperparameters here too.\n",
    "rf = RandomForestRegressor(max_features=8, n_estimators=200)\n",
    "rf.fit(X_train, y_train)"
   ]
  },
  {
   "cell_type": "markdown",
   "metadata": {},
   "source": [
    "# Evaluation"
   ]
  },
  {
   "cell_type": "code",
   "execution_count": 22,
   "metadata": {},
   "outputs": [],
   "source": [
    "# corrections and normalisation that we applied to the training data also need applied to the test data\n",
    "# (normalisation uses the same lower/upper bounds as for the training data, by using the same mm_scaler object)\n",
    "# BUT we do not drop outliers here as in practice we might only be making predictions one at a time\n",
    "df_test['depArr'] = df_test['depArr'].replace({'dep':'0','arr':'1'})\n",
    "X_test = df_test[selected_features].values\n",
    "y_test = df_test['TaxiTime'].values\n",
    "X_test = mm_scaler.transform(X_test)\n",
    "\n",
    "y_pred = rf.predict(X_test)"
   ]
  },
  {
   "cell_type": "code",
   "execution_count": 23,
   "metadata": {},
   "outputs": [
    {
     "data": {
      "text/plain": [
       "array([15.68966667,  6.36675   ,  4.605     , 11.61591667,  6.14941667,\n",
       "       11.07283333, 11.567     , 10.32625   , 16.34      , 14.28525   ,\n",
       "        9.80441667,  5.07775   ,  9.45658333, 10.47525   , 10.81216667,\n",
       "       11.2615    ,  8.98333333,  8.9555    ,  6.38283333, 11.79808333,\n",
       "       12.90475   , 16.03408333, 15.0965    ,  3.52058333,  4.433     ,\n",
       "       15.52358333, 13.49408333, 11.94358333, 17.858     ,  8.73825   ,\n",
       "        9.34691667,  4.63075   , 14.5085    , 11.4845    ,  8.67575   ,\n",
       "        9.97833333, 10.52708333,  4.56275   ,  9.41008333, 12.47125   ,\n",
       "        6.048     ,  2.336     ,  5.28725   ,  8.8505    ,  8.346     ,\n",
       "        4.95716667,  7.305     , 14.12108333, 17.93316667,  9.23691667,\n",
       "        6.65358333,  9.35966667,  5.92316667,  5.1225    ,  7.78108333,\n",
       "       12.8555    ,  3.06708333,  9.77458333,  5.64408333,  3.01516667,\n",
       "        8.73091667,  9.574     ,  5.23041667,  4.79783333,  3.88075   ,\n",
       "        4.63275   ,  6.4625    , 16.12833333,  8.07983333,  7.93916667,\n",
       "        9.33708333, 12.20883333, 12.62883333, 16.20366667, 12.8175    ,\n",
       "        5.37075   , 13.06441667, 10.46941667,  7.59183333, 11.31308333,\n",
       "       11.56641667,  8.78358333, 18.25758333, 13.83666667, 13.33625   ,\n",
       "       17.69975   , 13.99266667,  6.58291667,  5.57525   ,  8.00741667,\n",
       "        8.33575   ,  9.5565    , 14.73191667,  9.60925   , 11.52141667,\n",
       "       11.54925   ,  9.33833333,  6.89708333,  5.96533333, 13.16241667,\n",
       "        7.04925   ,  7.83891667,  9.93691667,  6.1135    ,  5.80633333,\n",
       "       11.62808333, 14.468     , 17.06025   ,  4.6595    ,  9.257     ,\n",
       "        4.961     , 10.15666667,  6.08125   , 10.47466667, 14.28841667,\n",
       "        9.97533333, 12.50883333,  9.63783333, 15.88625   ,  3.27266667,\n",
       "       11.08916667, 12.80791667, 10.54291667,  5.84616667,  9.48041667,\n",
       "        5.64741667,  5.90483333,  9.30125   , 11.599     ,  9.09991667,\n",
       "        3.25541667,  4.39983333, 12.48033333, 11.31508333, 12.27441667,\n",
       "        6.01016667, 10.01958333,  6.16733333,  7.281     , 11.22375   ,\n",
       "        9.71866667,  3.98441667,  9.99516667, 15.09733333,  6.10641667,\n",
       "        5.73758333,  4.82458333,  2.41791667, 10.17358333,  5.68966667,\n",
       "        7.36908333,  6.53516667,  8.56766667,  9.74225   , 16.94041667,\n",
       "        7.07566667, 10.54041667, 12.03791667, 12.51108333, 11.94525   ,\n",
       "        4.64166667, 13.09933333,  9.177     , 14.91375   ,  7.95258333,\n",
       "       11.9505    , 10.46341667, 15.14583333,  7.23075   , 11.78416667,\n",
       "       18.15508333, 15.201     ,  4.29158333, 10.41041667,  8.96133333,\n",
       "        6.43691667, 13.90641667, 11.19158333,  7.72958333,  7.05508333,\n",
       "        7.214     ,  3.63183333, 10.04608333,  5.53183333,  8.08391667,\n",
       "        5.00625   ,  8.57066667, 15.40875   , 14.30208333, 13.23041667,\n",
       "        3.80583333,  4.77216667,  9.43108333, 13.10075   , 11.62066667,\n",
       "       11.33091667, 12.2535    ,  4.968     , 11.05225   , 10.63475   ,\n",
       "        7.09408333,  3.97591667, 12.19133333,  6.21566667,  4.94733333,\n",
       "        5.5695    ,  6.02791667, 13.2345    , 11.49358333, 10.27916667,\n",
       "       11.49825   , 11.80125   , 15.17733333, 12.14283333, 12.03308333,\n",
       "       11.57308333,  6.13666667, 15.01958333,  3.5115    , 13.21458333,\n",
       "       11.46658333, 10.986     , 16.02166667, 13.45708333,  9.87325   ,\n",
       "       13.40008333, 17.30666667, 15.76425   , 12.73558333, 15.68225   ,\n",
       "       13.60708333, 13.30733333,  5.30558333, 16.02658333, 15.48416667,\n",
       "        2.19566667, 10.59366667, 11.83608333,  3.73091667, 13.319     ,\n",
       "        8.86808333,  1.18741667, 13.08958333,  5.55433333,  3.71383333,\n",
       "       10.1275    ,  3.36816667,  9.96641667, 13.09575   , 12.16083333,\n",
       "        9.81158333,  9.247     ,  3.74816667,  3.41925   ,  6.38491667,\n",
       "       10.265     ,  9.83108333,  9.42941667,  9.26825   ,  4.17341667,\n",
       "       10.26241667, 15.67858333, 11.74416667, 12.39508333,  9.57283333,\n",
       "       11.71666667, 15.39633333, 14.66975   , 13.604     , 11.5515    ,\n",
       "        4.50466667,  7.29425   , 12.21541667, 11.855     ,  9.75475   ,\n",
       "       11.38175   ,  7.45525   , 15.872     , 12.95366667,  9.53408333,\n",
       "       15.10708333,  6.49541667,  9.7105    , 11.85891667, 10.72441667,\n",
       "       14.58633333,  9.95375   , 15.975     ,  9.25066667,  8.12925   ,\n",
       "       15.27591667,  8.67708333, 15.99658333, 14.01283333, 12.25808333,\n",
       "       12.45708333,  7.81116667, 13.98825   , 14.60883333, 10.44208333,\n",
       "       16.00141667,  5.46741667,  7.33708333,  9.04316667,  4.38933333,\n",
       "        8.17016667,  4.58325   , 15.33983333,  3.47116667,  3.81008333,\n",
       "        8.59825   ,  5.00466667, 11.71941667,  9.46083333, 14.7175    ,\n",
       "       15.42825   , 15.91591667, 10.04508333, 16.68658333, 13.2915    ,\n",
       "        6.17866667, 12.70958333, 15.996     ,  9.07458333, 16.12333333,\n",
       "       13.86883333, 13.36775   , 16.30875   , 11.19291667, 11.83416667,\n",
       "       15.32858333,  6.60916667, 11.75816667,  5.41691667,  7.92758333,\n",
       "        7.54966667, 12.285     , 15.06683333,  9.23308333,  3.126     ,\n",
       "        5.04016667, 12.13766667, 11.01991667,  6.49558333,  3.45225   ,\n",
       "        9.73075   , 14.48      , 12.20758333,  8.74341667,  8.984     ,\n",
       "        5.95441667,  8.71341667, 10.52558333,  5.75008333,  3.65975   ,\n",
       "        8.66866667, 12.11508333,  6.09116667, 11.38791667,  8.15308333,\n",
       "        5.91458333, 12.39933333,  5.268     ,  5.05733333,  6.81991667,\n",
       "        7.13458333,  4.46033333,  8.902     ,  8.57708333,  6.84608333,\n",
       "       12.64308333, 11.06066667, 14.54608333, 13.68166667, 13.02958333,\n",
       "       11.33858333,  8.53633333,  6.372     , 15.05058333, 10.77233333,\n",
       "        5.23091667,  9.84425   , 15.37708333,  6.16083333, 12.73858333,\n",
       "       12.606     ,  9.08891667, 12.81825   , 12.36191667, 10.844     ,\n",
       "       14.99416667,  7.79441667,  9.72958333, 15.50591667,  9.68458333,\n",
       "       12.34783333,  9.22491667,  4.78133333,  4.2335    ,  5.2365    ,\n",
       "        9.74741667, 15.50975   ,  4.56258333, 10.97858333,  8.94658333,\n",
       "        6.94016667,  8.77191667,  4.60941667, 10.27125   ,  5.419     ,\n",
       "       11.52791667, 14.46008333, 13.57125   , 12.56983333, 14.66908333,\n",
       "        1.02008333,  1.83591667,  5.61825   , 12.929     , 11.4285    ,\n",
       "       11.41008333,  6.02575   ,  1.9735    , 14.334     , 10.29266667,\n",
       "        8.89675   , 14.84975   , 15.71766667,  6.02916667,  3.79333333,\n",
       "       13.45633333, 12.70958333,  7.20816667, 15.561     , 13.20233333,\n",
       "        7.83508333,  2.60858333,  2.18966667,  7.734     , 14.32366667,\n",
       "        4.14575   , 11.92875   , 11.80241667, 12.08575   ,  5.68758333,\n",
       "        5.22775   ,  8.02958333, 10.14075   , 12.37241667, 12.21508333,\n",
       "        3.38      , 15.66858333, 13.02008333,  4.8975    ,  5.5965    ,\n",
       "        8.59233333,  6.19075   ,  4.33608333, 11.21658333,  9.50766667,\n",
       "        5.7285    , 11.4115    , 11.22116667, 14.035     , 14.58875   ,\n",
       "       14.73541667,  8.71166667,  3.37658333,  4.444     ,  7.58383333,\n",
       "       13.80791667, 12.88383333, 14.86341667, 11.45966667, 10.35491667,\n",
       "       15.16325   , 10.21225   ,  9.88216667,  4.48408333,  7.41341667,\n",
       "        3.28166667, 12.27425   ,  2.7315    , 11.00408333,  3.40158333,\n",
       "        7.77525   , 14.47116667,  9.62625   , 11.15075   ,  5.86416667,\n",
       "       10.57858333,  1.54191667,  5.63766667,  9.59441666,  8.77775   ,\n",
       "        5.70558333, 13.70816667, 10.41308333, 15.11625   , 13.17316667,\n",
       "        4.1445    ,  7.67691667,  6.00275   , 13.84358333, 12.98141667,\n",
       "       12.84583333,  4.21958333, 13.68916667,  5.288     ,  4.34075   ,\n",
       "        5.93316667,  9.7985    ,  9.258     , 11.49133333, 12.11375   ,\n",
       "       14.1115    , 13.04891667,  9.94791667, 12.37991667,  6.30666667,\n",
       "        3.8695    ,  7.64816667, 15.48325   , 11.45191667, 11.3265    ,\n",
       "        7.77825   ,  6.46683333,  5.61416667,  3.02533333,  8.93216667,\n",
       "       10.40408333,  9.55875   , 11.40508333,  4.50625   ,  3.37316667,\n",
       "        2.89066667,  7.64283333,  8.60483333, 11.24216667,  5.57258333,\n",
       "        7.75608333, 11.65216667,  4.6235    ,  8.09216667,  4.74425   ,\n",
       "       11.18008333,  8.45758333,  4.41325   ,  7.00583333,  5.994     ,\n",
       "        5.73375   ,  8.18858333,  5.04725   ,  1.25975   ,  6.056     ,\n",
       "        6.03816667, 13.012     ,  9.19766667,  6.6985    ,  4.82033333,\n",
       "        5.13216667, 13.45966667, 10.04575   ,  5.94116667, 11.169     ,\n",
       "       10.948     ,  6.79541667, 11.23483333, 15.09133333, 15.75025   ,\n",
       "        4.09991667,  9.9425    ,  2.43208333, 13.31758333,  3.70008333,\n",
       "        8.79641667, 11.19925   ,  9.48541667, 10.9525    , 13.076     ,\n",
       "       13.16391667,  3.59541667, 13.68533333, 15.995     , 11.46925   ,\n",
       "        9.15116667,  7.38933333,  3.03941667,  8.08858333, 12.48508333,\n",
       "       13.36425   , 11.4345    ,  3.67166667, 15.72483333, 10.71791667,\n",
       "        6.32466667,  8.00633333,  3.77808333,  8.65308333,  8.08566667,\n",
       "        5.68258333,  4.556     ,  4.46858333,  3.99816667,  5.90275   ,\n",
       "        7.55808333, 11.32816667, 10.61783333, 11.49591667, 10.61558333,\n",
       "       13.15191667, 11.03775   , 11.18366667,  9.28841667, 12.08475   ,\n",
       "       11.4505    , 13.14425   ,  4.11641667, 11.27208333, 12.39191667,\n",
       "        9.86283333,  8.30783333,  3.73208333, 15.5475    ,  5.51658333,\n",
       "       14.38758333, 15.13566667, 15.44983333, 12.41191667, 11.98066667,\n",
       "        8.71125   ,  5.7505    , 10.17375   ,  5.66291667, 12.68733333,\n",
       "       13.98      ,  8.78175   , 11.15641667,  6.945     , 14.56491667,\n",
       "       15.85158333,  6.31291667,  5.91558333,  8.91191667,  5.84941667,\n",
       "        4.40991667,  5.39941667,  7.2745    , 14.50408333,  9.46775   ,\n",
       "        5.1215    ,  5.8355    ,  9.237     ,  7.61025   , 11.84691667,\n",
       "        3.92366667,  8.80758333,  3.156     ,  9.76425   ,  7.8195    ,\n",
       "        6.085     , 15.4295    , 15.10425   ,  6.4995    , 16.81791667,\n",
       "       13.61266667,  5.22391667, 10.06866667,  9.01975   ,  5.4295    ,\n",
       "       14.56308333, 15.28341667, 16.00158333, 12.1535    , 11.96408333,\n",
       "       11.2875    , 15.56625   , 15.43641667,  6.45791667,  3.54925   ,\n",
       "       15.31766667, 14.12308333,  4.0575    , 10.19508333, 14.98808333,\n",
       "       15.63475   , 14.82975   ,  9.98041667, 12.3565    , 11.92866667,\n",
       "        3.64375   , 15.55275   , 10.7765    ,  5.29216667,  4.49416667,\n",
       "        5.30691667,  9.13633333,  8.81341667, 15.09275   , 15.93758333,\n",
       "       15.66866667,  6.38891667, 12.74058333, 10.89883333,  9.41008333,\n",
       "        5.45041667, 11.54283333,  5.5455    , 12.76591667, 10.74841667,\n",
       "        5.88691667,  9.56358333, 10.23416667, 11.2285    , 11.894     ,\n",
       "       11.65358333, 11.85858333,  2.43916667,  4.90666667,  4.70983333,\n",
       "        5.84433333,  7.84133333, 10.20675   , 15.19033333, 12.95833333,\n",
       "       13.41141667,  8.38641667, 12.96916667, 13.95858333, 10.77825   ,\n",
       "       13.36183333,  6.51641667, 11.28566667, 14.23525   , 13.30416667,\n",
       "       11.11975   ,  1.02591667,  2.58216667, 12.79408333,  1.40733333,\n",
       "        1.97766667, 14.48516667,  5.37466667,  5.28275   , 10.2685    ,\n",
       "       10.196     ,  3.82458333, 13.80075   , 14.24966667, 19.15191667,\n",
       "        3.62141667, 10.22208333, 10.06358333, 14.74108333])"
      ]
     },
     "execution_count": 23,
     "metadata": {},
     "output_type": "execute_result"
    }
   ],
   "source": [
    "y_pred"
   ]
  },
  {
   "cell_type": "code",
   "execution_count": 24,
   "metadata": {
    "scrolled": true
   },
   "outputs": [
    {
     "name": "stdout",
     "output_type": "stream",
     "text": [
      "r2: 0.5664303647140956\n",
      "MSE: 10.713789196524253\n",
      "Fraction < 1min: 0.3183023872679045\n",
      "Fraction < 3min: 0.7347480106100795\n"
     ]
    },
    {
     "data": {
      "text/plain": [
       "<BarContainer object of 14 artists>"
      ]
     },
     "execution_count": 24,
     "metadata": {},
     "output_type": "execute_result"
    },
    {
     "data": {
      "image/png": "[encoded data removed]",
      "text/plain": [
       "<Figure size 432x288 with 1 Axes>"
      ]
     },
     "metadata": {
      "needs_background": "light"
     },
     "output_type": "display_data"
    }
   ],
   "source": [
    "# how close are the predictions?\n",
    "from sklearn import metrics\n",
    "print(\"r2:\", metrics.r2_score(y_test, y_pred))\n",
    "print(\"MSE:\", metrics.mean_squared_error(y_test, y_pred))\n",
    "\n",
    "\n",
    "# how many under 1 min, 3 mins?\n",
    "#predDifferences = abs(y_pred - y_test)\n",
    "#np.where(predDifferences < 3)\n",
    "predDifferences = abs(np.subtract(y_pred, y_test).ravel())\n",
    "print(\"Fraction < 1min:\", len(np.where(predDifferences < 1)[0]) / len(y_test))\n",
    "print(\"Fraction < 3min:\", len(np.where(predDifferences < 3)[0]) / len(y_test))\n",
    "\n",
    "# distributions\n",
    "hist, bins = np.histogram(predDifferences, bins=range(0,15,1))\n",
    "width = 0.7 * (bins[1] - bins[0])\n",
    "center = (bins[:-1] + bins[1:]) / 2\n",
    "plt.bar(center, hist, align='center', width=width)"
   ]
  },
  {
   "cell_type": "markdown",
   "metadata": {},
   "source": [
    "# Deployment\n",
    "One example! We might just pass the model configuration details (type, hyperparameters etc.) to a software developer who will integrate with a bigger system."
   ]
  },
  {
   "cell_type": "code",
   "execution_count": 25,
   "metadata": {},
   "outputs": [],
   "source": [
    "# save model\n",
    "import pickle\n",
    "pickle.dump(rf, open(\"savedmodel.sav\", 'wb'))\n",
    "\n",
    "# some time later...\n",
    "# load the model from disk\n",
    "rf2 = pickle.load(open(\"savedmodel.sav\", 'rb'))\n",
    "pred = rf2.predict(X_test)"
   ]
  },
  {
   "cell_type": "markdown",
   "metadata": {},
   "source": [
    "# ....The End"
   ]
  }
 ],
 "metadata": {
  "kernelspec": {
   "display_name": "Python 3",
   "language": "python",
   "name": "python3"
  },
  "language_info": {
   "codemirror_mode": {
    "name": "ipython",
    "version": 3
   },
   "file_extension": ".py",
   "mimetype": "text/x-python",
   "name": "python",
   "nbconvert_exporter": "python",
   "pygments_lexer": "ipython3",
   "version": "3.7.6"
  }
 },
 "nbformat": 4,
 "nbformat_minor": 4
}
